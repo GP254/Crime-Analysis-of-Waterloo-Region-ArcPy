{
 "cells": [
  {
   "cell_type": "code",
   "execution_count": null,
   "id": "8584b58c-966f-443c-8984-02b7c530c246",
   "metadata": {
    "scrolled": true
   },
   "outputs": [],
   "source": [
    "import arcpy\n",
    "import pandas as pd\n",
    "import matplotlib.pyplot as plt"
   ]
  },
  {
   "cell_type": "code",
   "execution_count": null,
   "id": "4f2c0bab-de02-4e1a-bcc0-02346cc6d382",
   "metadata": {},
   "outputs": [],
   "source": [
    "CrimeDT = r\"C:\\Users\\g2panesa\\OneDrive - University of Waterloo\\Documents\\ArcGIS\\Projects\\Waterloo Crime Occurence Analysis\\Waterloo Crime Occurence Analysis.gdb\\CrimeDT\""
   ]
  },
  {
   "cell_type": "code",
   "execution_count": null,
   "id": "c03e2673-a28d-4692-a56a-8c709d8220b8",
   "metadata": {},
   "outputs": [],
   "source": [
    "arcpy.AddField_management(CrimeDT, \"X_Coord\", \"DOUBLE\")\n",
    "arcpy.AddField_management(CrimeDT, \"Y_Coord\", \"DOUBLE\")"
   ]
  },
  {
   "cell_type": "code",
   "execution_count": null,
   "id": "1fa93926-6bae-492b-ab57-345503685039",
   "metadata": {},
   "outputs": [],
   "source": [
    "with arcpy.da.UpdateCursor(CrimeDT, [\"GeographicLocation\", \"X_Coord\", \"Y_Coord\"]) as cursor:\n",
    "    for row in cursor:\n",
    "        row[1] = row[0].split(\",\")[0]\n",
    "        row[2] = row[0].split(\",\")[1]\n",
    "        row=[i.strip() if i is not None else None for i in row]\n",
    "        cursor.updateRow(row)"
   ]
  },
  {
   "cell_type": "code",
   "execution_count": null,
   "id": "3dab4df9-00cf-4eb7-b612-575c6d3eeedc",
   "metadata": {},
   "outputs": [],
   "source": [
    "CrimeD_Pts = \"crime_points.shp\"\n",
    "spatial_ref = arcpy.SpatialReference(26917)\n",
    "arcpy.management.XYTableToPoint(CrimeDT, CrimeD_Pts, \"X_Coord\", \"Y_Coord\", coordinate_system=spatial_ref)"
   ]
  },
  {
   "cell_type": "code",
   "execution_count": null,
   "id": "a551b2c4-8c7b-46dd-a4b1-1f6c9281e8a1",
   "metadata": {},
   "outputs": [],
   "source": [
    "facility = r\"C:\\Users\\g2panesa\\OneDrive - University of Waterloo\\Documents\\OSM_Data\\OSM_Data\\shape\\points.shp\"\n",
    "facility_20m = \"facility_20m.shp\"\n",
    "crime_pts = \"crime_points.shp\""
   ]
  },
  {
   "cell_type": "code",
   "execution_count": null,
   "id": "cf139f02-aabc-430a-a013-38e191f36618",
   "metadata": {},
   "outputs": [],
   "source": [
    "arcpy.analysis.Buffer(facility, facility_20m, \"20 Meters\", dissolve_option=\"NONE\")"
   ]
  },
  {
   "cell_type": "code",
   "execution_count": null,
   "id": "31abe352-357f-42bf-875e-60d89d42be58",
   "metadata": {},
   "outputs": [],
   "source": [
    "arcpy.management.Project(facility_20m,\"facility_20m_Proj.shp\",26917)"
   ]
  },
  {
   "cell_type": "code",
   "execution_count": null,
   "id": "6ab41711-e8f2-4d05-8bd0-3f5803a43582",
   "metadata": {},
   "outputs": [],
   "source": [
    "facility_20m_prj = \"facility_20m_Proj.shp\""
   ]
  },
  {
   "cell_type": "code",
   "execution_count": null,
   "id": "00bb8ed5-0c99-42d4-8f80-f559e74bee6a",
   "metadata": {},
   "outputs": [],
   "source": [
    "arcpy.analysis.SpatialJoin(facility_20m_prj, crime_pts, \"facility_crime_prox.shp\", \"JOIN_ONE_TO_MANY\", \"KEEP_COMMON\", match_option=\"INTERSECT\")"
   ]
  },
  {
   "cell_type": "code",
   "execution_count": null,
   "id": "08a015d0-b3d7-4e3f-9437-e4d9d41c1d34",
   "metadata": {},
   "outputs": [],
   "source": [
    "facility_crime_prox = \"facility_crime_prox.shp\""
   ]
  },
  {
   "cell_type": "code",
   "execution_count": null,
   "id": "32326407-86ad-40ed-b983-fcb9e4a39815",
   "metadata": {},
   "outputs": [],
   "source": [
    "prox_stats = \"prox_stats.shp\" ##Geotable\n",
    "arcpy.analysis.Statistics(facility_crime_prox, prox_stats, [[\"Join_Count\",\"SUM\"]], \"type\")"
   ]
  },
  {
   "cell_type": "code",
   "execution_count": null,
   "id": "df0298f1-9ee8-4962-aa6f-af5a32b31ac0",
   "metadata": {},
   "outputs": [],
   "source": [
    "prox_stats_table = arcpy.da.TableToNumPyArray(prox_stats,\"*\")"
   ]
  },
  {
   "cell_type": "code",
   "execution_count": null,
   "id": "a9c06362-b05c-4c3c-849d-1a85639db1bd",
   "metadata": {},
   "outputs": [],
   "source": [
    "prox_stats_df = pd.DataFrame(prox_stats_table)"
   ]
  },
  {
   "cell_type": "code",
   "execution_count": null,
   "id": "0ea80598-3371-484d-91f5-7c88d17e2916",
   "metadata": {},
   "outputs": [],
   "source": [
    "print(prox_stats_df)"
   ]
  },
  {
   "cell_type": "code",
   "execution_count": null,
   "id": "6f86063e-511c-4734-802f-2c36b80e3cb7",
   "metadata": {},
   "outputs": [],
   "source": [
    "prox_stats_top_df = prox_stats_df.sort_values(by=\"SUM_Join_C\", ascending=False).head(6)"
   ]
  },
  {
   "cell_type": "code",
   "execution_count": null,
   "id": "691395cb-bb37-4fc3-849f-001469c03a19",
   "metadata": {},
   "outputs": [],
   "source": [
    "plt.figure(figsize=(10, 4))\n",
    "ps_bar_plot = plt.bar(prox_stats_top_df[\"type\"], prox_stats_top_df[\"SUM_Join_C\"], color=\"green\")\n",
    "plt.bar_label(ps_bar_plot, label_type=\"edge\", fontsize=10)\n",
    "plt.xticks(rotation=45, ha=\"right\")\n",
    "plt.show()"
   ]
  }
 ],
 "metadata": {
  "kernelspec": {
   "display_name": "anaconda-2024.02-py310",
   "language": "python",
   "name": "conda-env-anaconda-2024.02-py310-py"
  },
  "language_info": {
   "codemirror_mode": {
    "name": "ipython",
    "version": 3
   },
   "file_extension": ".py",
   "mimetype": "text/x-python",
   "name": "python",
   "nbconvert_exporter": "python",
   "pygments_lexer": "ipython3",
   "version": "3.10.14"
  }
 },
 "nbformat": 4,
 "nbformat_minor": 5
}
